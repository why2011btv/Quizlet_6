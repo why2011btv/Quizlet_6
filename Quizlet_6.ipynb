{
 "cells": [
  {
   "cell_type": "code",
   "execution_count": 17,
   "metadata": {},
   "outputs": [
    {
     "name": "stdout",
     "output_type": "stream",
     "text": [
      "dict_keys(['quizlet6_data/L0C04CJ13.rsd.txt', 'quizlet6_data/L0C04D4DS.rsd.txt', 'quizlet6_data/L0C04D4DB.rsd.txt', 'quizlet6_data/L0C04D4RB.rsd.txt', 'quizlet6_data/L0C04AT6Y.rsd.txt', 'quizlet6_data/L0C04AT6W.rsd.txt', 'quizlet6_data/L0C04AT6B.rsd.txt', 'quizlet6_data/L0C04AT6J.rsd.txt', 'quizlet6_data/L0C04D4DA.rsd.txt'])\n",
      "\n",
      "\n",
      "[{'trigger': {'position': [6, 7], 'type': 'Life_Infect_Unspecified'}, 'arguments': [], 'sentence': 'Multistate Outbreak of Salmonella Typhimurium Infections Linked to Peanut Butter, 2008-2009 (FINAL UPDATE)', 'tokens': ['Multistate', 'Outbreak', 'of', 'Salmonella', 'Typhimurium', 'Infections', 'Linked', 'to', 'Peanut', 'Butter', ',', '2008', '-', '2009', '(', 'FINAL', 'UPDATE', ')']}]\n"
     ]
    }
   ],
   "source": [
    "import json\n",
    "\n",
    "json_file = '/shared/hzhangal/Projects/zero-event-extraction/quizlet6/quizlet6_data/extracted_events.json'\n",
    "file_name = 'quizlet6_data/L0C04D4DS.rsd.txt'\n",
    "\n",
    "with open(json_file) as f:\n",
    "    extracted_events = json.load(f)\n",
    "    print(extracted_events.keys())\n",
    "    print(\"\\n\")\n",
    "    print(extracted_events[file_name]['events'][1])"
   ]
  },
  {
   "cell_type": "code",
   "execution_count": null,
   "metadata": {},
   "outputs": [],
   "source": []
  }
 ],
 "metadata": {
  "kernelspec": {
   "display_name": "EMNLP_env",
   "language": "python",
   "name": "emnlp_env"
  },
  "language_info": {
   "codemirror_mode": {
    "name": "ipython",
    "version": 3
   },
   "file_extension": ".py",
   "mimetype": "text/x-python",
   "name": "python",
   "nbconvert_exporter": "python",
   "pygments_lexer": "ipython3",
   "version": "3.7.6"
  }
 },
 "nbformat": 4,
 "nbformat_minor": 2
}
